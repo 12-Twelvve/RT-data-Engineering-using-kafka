{
 "cells": [
  {
   "cell_type": "code",
   "execution_count": 2,
   "id": "d9b390fd",
   "metadata": {},
   "outputs": [],
   "source": [
    "# !pip install s3fs"
   ]
  },
  {
   "cell_type": "code",
   "execution_count": 1,
   "id": "878e18a3",
   "metadata": {},
   "outputs": [],
   "source": [
    "import pandas as pd\n",
    "from kafka import KafkaConsumer\n",
    "from time import sleep \n",
    "from json import dumps, loads\n",
    "import json"
   ]
  },
  {
   "cell_type": "code",
   "execution_count": 2,
   "id": "78103289",
   "metadata": {},
   "outputs": [],
   "source": [
    "consumer = KafkaConsumer('demo_test',\n",
    "                        bootstrap_servers = ['3.24.135.147:9092'],\n",
    "                        value_deserializer= lambda x : loads(x.decode('utf-8')))"
   ]
  },
  {
   "cell_type": "code",
   "execution_count": 14,
   "id": "625c5129",
   "metadata": {},
   "outputs": [],
   "source": [
    "for c in consumer:\n",
    "    print(c.value)"
   ]
  },
  {
   "cell_type": "code",
   "execution_count": 3,
   "id": "ea45c552",
   "metadata": {},
   "outputs": [],
   "source": [
    "from s3fs import S3FileSystem"
   ]
  },
  {
   "cell_type": "code",
   "execution_count": 4,
   "id": "67a41321",
   "metadata": {},
   "outputs": [],
   "source": [
    "s3 = S3FileSystem()"
   ]
  },
  {
   "cell_type": "code",
   "execution_count": null,
   "id": "77cd624d",
   "metadata": {},
   "outputs": [
    {
     "name": "stdout",
     "output_type": "stream",
     "text": [
      "{'Index': 'GDAXI', 'Date': '2006-06-22', 'Open': 5548.379883, 'High': 5580.819824, 'Low': 5499.359863, 'Close': 5533.419922, 'Adj Close': 5533.419922, 'Volume': 106067900.0, 'CloseUSD': 6750.77230484}\n",
      "{'Index': 'HSI', 'Date': '2015-04-29', 'Open': 28453.09961, 'High': 28453.09961, 'Low': 28201.75977, 'Close': 28400.33984, 'Adj Close': 28400.33984, 'Volume': 2094900900.0, 'CloseUSD': 3692.0441792}\n",
      "{'Index': '399001.SZ', 'Date': '1998-04-23', 'Open': 4205.439941, 'High': 4210.100098, 'Low': 4151.640137, 'Close': 4162.25, 'Adj Close': 4162.203125, 'Volume': 0.0, 'CloseUSD': 665.96}\n",
      "{'Index': 'N100', 'Date': '2015-01-26', 'Open': 907.630005, 'High': 920.400024, 'Low': 907.630005, 'Close': 920.0, 'Adj Close': 920.0, 'Volume': 508508000.0, 'CloseUSD': 1122.4}\n",
      "{'Index': 'N225', 'Date': '2018-05-18', 'Open': 22907.19922, 'High': 22954.18945, 'Low': 22867.30078, 'Close': 22930.35938, 'Adj Close': 22930.35938, 'Volume': 65300000.0, 'CloseUSD': 229.3035938}\n",
      "{'Index': 'NYA', 'Date': '1976-09-27', 'Open': 605.450012, 'High': 605.450012, 'Low': 605.450012, 'Close': 605.450012, 'Adj Close': 605.450012, 'Volume': 0.0, 'CloseUSD': 605.450012}\n",
      "{'Index': 'IXIC', 'Date': '2016-04-06', 'Open': 4849.580078, 'High': 4921.509766, 'Low': 4849.279785, 'Close': 4920.720215, 'Adj Close': 4920.720215, 'Volume': 1761770000.0, 'CloseUSD': 4920.720215}\n",
      "{'Index': 'HSI', 'Date': '2018-08-17', 'Open': 27388.57031, 'High': 27450.83984, 'Low': 27101.09961, 'Close': 27213.41016, 'Adj Close': 27213.41016, 'Volume': 1557764000.0, 'CloseUSD': 3537.7433208}\n",
      "{'Index': 'GDAXI', 'Date': '2019-04-24', 'Open': 12232.99023, 'High': 12349.83008, 'Low': 12223.98047, 'Close': 12313.16016, 'Adj Close': 12313.16016, 'Volume': 106440300.0, 'CloseUSD': 15022.0553952}\n",
      "{'Index': 'N100', 'Date': '2007-03-19', 'Open': 954.700012, 'High': 960.48999, 'Low': 951.669983, 'Close': 960.48999, 'Adj Close': 960.48999, 'Volume': 312254000.0, 'CloseUSD': 1171.7977878}\n"
     ]
    }
   ],
   "source": [
    "for count, i in enumerate(consumer):\n",
    "    print(i.value)\n",
    "    with s3.open(\"s3://stock-market-test-bucket-kuber/stock_market_{}.json\".format(count), 'w') as file:\n",
    "        json.dump(i.value, file) "
   ]
  }
 ],
 "metadata": {
  "kernelspec": {
   "display_name": "Python 3 (ipykernel)",
   "language": "python",
   "name": "python3"
  },
  "language_info": {
   "codemirror_mode": {
    "name": "ipython",
    "version": 3
   },
   "file_extension": ".py",
   "mimetype": "text/x-python",
   "name": "python",
   "nbconvert_exporter": "python",
   "pygments_lexer": "ipython3",
   "version": "3.9.13"
  }
 },
 "nbformat": 4,
 "nbformat_minor": 5
}
