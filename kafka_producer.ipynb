{
 "cells": [
  {
   "cell_type": "code",
   "execution_count": 2,
   "id": "402e72a6",
   "metadata": {},
   "outputs": [],
   "source": [
    "# !pip install kafka-python "
   ]
  },
  {
   "cell_type": "code",
   "execution_count": 1,
   "id": "c2e2ef1e",
   "metadata": {},
   "outputs": [],
   "source": [
    "import pandas as pd\n",
    "from kafka import KafkaProducer\n",
    "from time import sleep \n",
    "from json import dumps\n",
    "import json"
   ]
  },
  {
   "cell_type": "code",
   "execution_count": 2,
   "id": "a212f848",
   "metadata": {},
   "outputs": [],
   "source": [
    "producer = KafkaProducer(bootstrap_servers=['3.24.135.147:9092'],\n",
    "                        value_serializer = lambda x: dumps(x).encode('utf-8'))\n"
   ]
  },
  {
   "cell_type": "code",
   "execution_count": 31,
   "id": "dd182c09",
   "metadata": {},
   "outputs": [
    {
     "data": {
      "text/plain": [
       "<kafka.producer.future.FutureRecordMetadata at 0x7f1001fc1b50>"
      ]
     },
     "execution_count": 31,
     "metadata": {},
     "output_type": "execute_result"
    }
   ],
   "source": []
  },
  {
   "cell_type": "code",
   "execution_count": 3,
   "id": "a2ab734c",
   "metadata": {},
   "outputs": [],
   "source": [
    "df = pd.read_csv('./indexProcessed.csv')"
   ]
  },
  {
   "cell_type": "code",
   "execution_count": 30,
   "id": "eb310dd8",
   "metadata": {},
   "outputs": [],
   "source": [
    "# df.head()"
   ]
  },
  {
   "cell_type": "code",
   "execution_count": 4,
   "id": "a90285b1",
   "metadata": {},
   "outputs": [],
   "source": [
    "for i in range(10):\n",
    "    stock_data = df.sample(1).to_dict(orient='records')[0]\n",
    "    producer.send('demo_test', value= stock_data)    "
   ]
  },
  {
   "cell_type": "code",
   "execution_count": 15,
   "id": "c1a69dec",
   "metadata": {},
   "outputs": [],
   "source": [
    "producer.flush()"
   ]
  }
 ],
 "metadata": {
  "kernelspec": {
   "display_name": "Python 3 (ipykernel)",
   "language": "python",
   "name": "python3"
  },
  "language_info": {
   "codemirror_mode": {
    "name": "ipython",
    "version": 3
   },
   "file_extension": ".py",
   "mimetype": "text/x-python",
   "name": "python",
   "nbconvert_exporter": "python",
   "pygments_lexer": "ipython3",
   "version": "3.9.13"
  }
 },
 "nbformat": 4,
 "nbformat_minor": 5
}
